{
 "cells": [
  {
   "cell_type": "markdown",
   "metadata": {},
   "source": [
    "just a stub and a gallery of templates ATM. will extend as it gets used"
   ]
  },
  {
   "cell_type": "code",
   "execution_count": null,
   "metadata": {},
   "outputs": [],
   "source": [
    "import pandas as pd\n",
    "import geopandas as gpd\n",
    "import numpy as np\n",
    "import matplotlib.pyplot as plt\n",
    "import geoplot as gplt\n",
    "import geoplot.crs as gcrs"
   ]
  },
  {
   "cell_type": "code",
   "execution_count": null,
   "metadata": {},
   "outputs": [],
   "source": [
    "world = gpd.read_file(gpd.datasets.get_path('naturalearth_lowres'))"
   ]
  },
  {
   "cell_type": "code",
   "execution_count": null,
   "metadata": {},
   "outputs": [],
   "source": [
    "cities500 = pd.read_json(\"cities500.json\")"
   ]
  },
  {
   "cell_type": "code",
   "execution_count": null,
   "metadata": {},
   "outputs": [],
   "source": [
    "c100k=cities500.loc[cities500[\"population\"] > 100000]\n",
    "c100k_geo = gpd.GeoDataFrame(\n",
    "    c100k, geometry=gpd.points_from_xy(c100k.longitude, c100k.latitude))"
   ]
  },
  {
   "cell_type": "code",
   "execution_count": null,
   "metadata": {},
   "outputs": [],
   "source": [
    "fig, ax = plt.subplots()\n",
    "world.plot(ax=ax)\n",
    "c10k_geo.plot(ax=ax, color='r', marker='.')"
   ]
  },
  {
   "cell_type": "code",
   "execution_count": null,
   "metadata": {},
   "outputs": [],
   "source": [
    "fig = plt.figure(figsize=(10,5))\n",
    "proj = projection= gcrs.LambertConformal()\n",
    "ax1 = plt.subplot(121, projection=proj)\n",
    "ax1 = gplt.pointplot(\n",
    "    c100k_geo, projection=proj,\n",
    "    hue='population', cmap='Set1',\n",
    "    edgecolor='white', linewidth=0.5,\n",
    "    scale='population', #limits=(8, 24),\n",
    "    legend=True, legend_var='scale',\n",
    "    legend_kwargs={'loc': 'upper left', 'markeredgecolor': 'black'},\n",
    "    #legend_values=[2, 1], legend_labels=['2 Fatalities', '1 Fatality'],\n",
    "    ax=ax1\n",
    ")\n",
    "gplt.polyplot(world, ax=ax1)"
   ]
  },
  {
   "cell_type": "code",
   "execution_count": null,
   "metadata": {},
   "outputs": [],
   "source": []
  }
 ],
 "metadata": {
  "kernelspec": {
   "display_name": "Python 3",
   "language": "python",
   "name": "python3"
  },
  "language_info": {
   "codemirror_mode": {
    "name": "ipython",
    "version": 3
   },
   "file_extension": ".py",
   "mimetype": "text/x-python",
   "name": "python",
   "nbconvert_exporter": "python",
   "pygments_lexer": "ipython3",
   "version": "3.6.9"
  },
  "toc": {
   "base_numbering": 1,
   "nav_menu": {},
   "number_sections": true,
   "sideBar": true,
   "skip_h1_title": false,
   "title_cell": "Table of Contents",
   "title_sidebar": "Contents",
   "toc_cell": false,
   "toc_position": {},
   "toc_section_display": true,
   "toc_window_display": false
  }
 },
 "nbformat": 4,
 "nbformat_minor": 2
}
